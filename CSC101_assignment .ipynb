{
  "nbformat": 4,
  "nbformat_minor": 0,
  "metadata": {
    "colab": {
      "provenance": [],
      "authorship_tag": "ABX9TyPj03Zr3CGEpZ3EhbQBzifC",
      "include_colab_link": true
    },
    "kernelspec": {
      "name": "python3",
      "display_name": "Python 3"
    },
    "language_info": {
      "name": "python"
    }
  },
  "cells": [
    {
      "cell_type": "markdown",
      "metadata": {
        "id": "view-in-github",
        "colab_type": "text"
      },
      "source": [
        "<a href=\"https://colab.research.google.com/github/Ghanendra-lawati/CSC100-ITP/blob/main/CSC101_assignment%20.ipynb\" target=\"_parent\"><img src=\"https://colab.research.google.com/assets/colab-badge.svg\" alt=\"Open In Colab\"/></a>"
      ]
    },
    {
      "cell_type": "code",
      "source": [
        "while True:\n",
        "  print(\"====== Shopping list Manager ======\")\n",
        "  print(\"1.View List\")\n",
        "  print(\"2.Add to List\")\n",
        "  print(\"3.Remove from List\")\n",
        "  print(\"4.Count the total number of items in the list\")\n",
        "  print(\"5.Exit\")\n",
        "  choice = input(\"Enter your choice\")\n",
        "\n",
        "  if choice == \"1\":\n",
        "    print(\"Your list is empty:\",number_of_items)\n",
        "  elif choice == \"2\":\n",
        "    number_of_items = []\n",
        "    quantity = input(\"how many items you want to add ?\")\n",
        "    for quantity in range(int(quantity)):\n",
        "      item_add = input(\"what item do you want to add?\")\n",
        "      item_add = item_add.lower()\n",
        "      number_of_items.append(item_add)\n",
        "      print(\" Item added:\",item_add)\n",
        "      print(\"your updated shopping list :\", number_of_items)\n",
        "  elif choice == \"3\":\n",
        "    item_remove = input(\"what item do you want to remove?\")\n",
        "    item_remove = item_remove.lower()\n",
        "    number_of_items.remove(item_remove)\n",
        "    print(\"Item removed :\", number_of_items)\n",
        "  elif choice == \"4\":\n",
        "    total_number_of_items = len(number_of_items)\n",
        "    print(\"The total number of items :\",total_number_of_items)\n",
        "  elif choice == \"5\":\n",
        "    print(\"Exit\")\n",
        "    break\n",
        "  else:\n",
        "    print(\"invalid choice\")\n",
        "    break"
      ],
      "metadata": {
        "colab": {
          "base_uri": "https://localhost:8080/"
        },
        "id": "6Qe7tOuHG8gI",
        "outputId": "9ed48adb-1105-417f-b86b-0ee195f11ecd"
      },
      "execution_count": null,
      "outputs": [
        {
          "output_type": "stream",
          "name": "stdout",
          "text": [
            "====== Shopping list Manager ======\n",
            "1.View List\n",
            "2.Add to List\n",
            "3.Remove from List\n",
            "4.Count the total number of items in the list\n",
            "5.Exit\n",
            "Enter your choice4\n",
            "The total number of items : 1\n",
            "====== Shopping list Manager ======\n",
            "1.View List\n",
            "2.Add to List\n",
            "3.Remove from List\n",
            "4.Count the total number of items in the list\n",
            "5.Exit\n"
          ]
        }
      ]
    }
  ]
}