{
  "nbformat": 4,
  "nbformat_minor": 0,
  "metadata": {
    "colab": {
      "private_outputs": true,
      "provenance": [],
      "authorship_tag": "ABX9TyMHtgI/vYQ3cIePiTnKhHFA",
      "include_colab_link": true
    },
    "kernelspec": {
      "name": "python3",
      "display_name": "Python 3"
    },
    "language_info": {
      "name": "python"
    }
  },
  "cells": [
    {
      "cell_type": "markdown",
      "metadata": {
        "id": "view-in-github",
        "colab_type": "text"
      },
      "source": [
        "<a href=\"https://colab.research.google.com/github/michael-adci/CSC100-ITP/blob/main/myfirstprogram.ipynb\" target=\"_parent\"><img src=\"https://colab.research.google.com/assets/colab-badge.svg\" alt=\"Open In Colab\"/></a>"
      ]
    },
    {
      "cell_type": "code",
      "execution_count": null,
      "metadata": {
        "id": "h70YUzdDOY_Q"
      },
      "outputs": [],
      "source": [
        "print(\"Hello World!\")"
      ]
    },
    {
      "cell_type": "code",
      "metadata": {
        "id": "ZL3x3u6x84fC"
      },
      "source": [
        "print(\"Temperature Converter\")\n",
        "print(\"--------------------\")\n",
        "\n",
        "# Get input from the user\n",
        "temp_str = input(\"Enter the temperature value: \")\n",
        "\n",
        "# We need a way to check if the string can be turned into a number\n",
        "# without using try/except.\n",
        "# A simple check is to see if all characters are digits or a single decimal point.\n",
        "# This isn't perfect for things like negative numbers, but fits your constraints.\n",
        "is_valid_number = True\n",
        "decimal_count = 0\n",
        "if temp_str.count('.') > 1:\n",
        "    is_valid_number = False\n",
        "else:\n",
        "    for char in temp_str:\n",
        "        if char == '.':\n",
        "            pass # Allow a single decimal point\n",
        "        elif not char.isdigit():\n",
        "            is_valid_number = False\n",
        "            break # Stop checking if we find a non-digit character\n",
        "\n",
        "if is_valid_number:\n",
        "    # Now that we've done a basic check, we can try converting to float\n",
        "    temperature = float(temp_str)\n",
        "\n",
        "    unit = input(\"Enter the unit (C for Celsius, F for Fahrenheit): \")\n",
        "\n",
        "    # Use an if statement to check the unit and perform the conversion\n",
        "    if unit.upper() == 'C':\n",
        "        # Convert Celsius to Fahrenheit\n",
        "        fahrenheit = (temperature * 9/5) + 32\n",
        "        print(f\"{temperature}°C is equal to {fahrenheit}°F\")\n",
        "    elif unit.upper() == 'F':\n",
        "        # Convert Fahrenheit to Celsius\n",
        "        celsius = (temperature - 32) * 5/9\n",
        "        print(f\"{temperature}°F is equal to {celsius}°C\")\n",
        "    else:\n",
        "        print(\"Invalid unit. Please enter 'C' or 'F'.\")\n",
        "else:\n",
        "    print(\"Invalid input. Please enter a number.\")"
      ],
      "execution_count": null,
      "outputs": []
    },
    {
      "cell_type": "code",
      "source": [
        "# Ask the user which conversion they want\n",
        "choice = input(\"Type 'C' to convert from Fahrenheit to Celsius, or 'F' to convert from Celsius to Fahrenheit: \")\n",
        "\n",
        "# Convert Fahrenheit to Celsius\n",
        "if choice == 'C':\n",
        "    fahrenheit = float(input(\"Enter temperature in Fahrenheit: \"))\n",
        "    celsius = (fahrenheit - 32) * 5 / 9\n",
        "    print(\"Temperature in Celsius is:\", celsius)\n",
        "\n",
        "# Convert Celsius to Fahrenheit\n",
        "if choice == 'F':\n",
        "    celsius = float(input(\"Enter temperature in Celsius: \"))\n",
        "    fahrenheit = (celsius * 9 / 5) + 32\n",
        "    print(\"Temperature in Fahrenheit is:\", fahrenheit)\n"
      ],
      "metadata": {
        "id": "aZMsf_a-TR-6"
      },
      "execution_count": null,
      "outputs": []
    }
  ]
}