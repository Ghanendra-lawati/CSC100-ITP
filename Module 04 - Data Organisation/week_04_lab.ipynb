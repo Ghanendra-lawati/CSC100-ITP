{
  "cells": [
    {
      "cell_type": "markdown",
      "metadata": {
        "id": "view-in-github",
        "colab_type": "text"
      },
      "source": [
        "<a href=\"https://colab.research.google.com/github/michael-adci/CSC100-ITP/blob/main/Module%2004%20-%20Data%20Organisation/week_04_lab.ipynb\" target=\"_parent\"><img src=\"https://colab.research.google.com/assets/colab-badge.svg\" alt=\"Open In Colab\"/></a>"
      ]
    },
    {
      "cell_type": "markdown",
      "metadata": {
        "id": "0FTT2ShmEvPn"
      },
      "source": [
        "# Lab Overview\n",
        "\n",
        "Welcome to the interactive string operations lab! This notebook is designed for hands-on exploration and progressive skill building.\n",
        "\n",
        "**Goals:**\n",
        "- Master string slicing through experimentation\n",
        "- Apply string methods to real problems\n",
        "- Build confidence with interactive practice\n",
        "- Create a mini word game\n",
        "\n",
        "**How to use this notebook:**\n",
        "- Read each section carefully\n",
        "- Run the demo cells to see examples\n",
        "- Complete the practice cells\n",
        "- Experiment and explore!"
      ]
    },
    {
      "cell_type": "markdown",
      "metadata": {
        "id": "uCU6TDChEvPp"
      },
      "source": [
        "---\n",
        "\n",
        "# Part 1: String Slicing Exploration\n",
        "\n",
        "## 1.1 Understanding String Structure\n",
        "\n",
        "Let's start by visualizing how strings work:"
      ]
    },
    {
      "cell_type": "code",
      "metadata": {
        "id": "4fe_6u-HEvPp"
      },
      "source": [
        "# Demo: String structure\n",
        "text = \"PYTHON\"\n",
        "print(f\"String: {text}\")\n",
        "print(f\"Length: {len(text)}\")\n",
        "print()\n",
        "print(\"Index mapping:\")\n",
        "for i, letter in enumerate(text):\n",
        "    print(f\"Position {i}: '{letter}'\")\n",
        "print()\n",
        "print(\"Visual representation:\")\n",
        "print(\" \".join(text))\n",
        "print(\" \".join(str(i) for i in range(len(text))))"
      ],
      "execution_count": null,
      "outputs": []
    },
    {
      "cell_type": "markdown",
      "metadata": {
        "id": "ngyWWfiYEvPr"
      },
      "source": [
        "## 1.2 Basic Slicing Experiments\n",
        "\n",
        "Run this cell and observe the patterns:"
      ]
    },
    {
      "cell_type": "code",
      "metadata": {
        "id": "mQmrlbIBEvPs"
      },
      "source": [
        "# Demo: Basic slicing patterns\n",
        "word = \"PROGRAMMING\"\n",
        "print(f\"String: {word}\")\n",
        "print(f\"Length: {len(word)}\")\n",
        "print()\n",
        "\n",
        "# Different slice patterns\n",
        "print(\"Forward slicing:\")\n",
        "print(f\"word[0:3] = '{word[0:3]}'\")\n",
        "print(f\"word[4:7] = '{word[4:7]}'\")\n",
        "print(f\"word[8:] = '{word[8:]}'\")\n",
        "print()\n",
        "\n",
        "print(\"Negative indexing:\")\n",
        "print(f\"word[-3:] = '{word[-3:]}'\")\n",
        "print(f\"word[:-2] = '{word[:-2]}'\")\n",
        "print(f\"word[-5:-2] = '{word[-5:-2]}'\")"
      ],
      "execution_count": null,
      "outputs": []
    },
    {
      "cell_type": "markdown",
      "metadata": {
        "id": "-gecajxvEvPs"
      },
      "source": [
        "### 🔥 Your Turn: Practice Slicing\n",
        "\n",
        "Complete these slicing exercises. Run the cell to check your answers:"
      ]
    },
    {
      "cell_type": "code",
      "metadata": {
        "id": "mX7-ZIBxEvPt"
      },
      "source": [
        "# Practice: Fill in the blanks\n",
        "text = \"Hello World\"\n",
        "#      01234567890\n",
        "\n",
        "# TODO: Extract \"Hello\"\n",
        "first_word = text[___:___]\n",
        "\n",
        "# TODO: Extract \"World\"\n",
        "second_word = text[___:___]\n",
        "\n",
        "# TODO: Extract \"llo Wo\"\n",
        "middle_part = text[___:___]\n",
        "\n",
        "# TODO: Get last 3 characters\n",
        "last_three = text[___:]\n",
        "\n",
        "# Check your answers\n",
        "print(f\"First word: '{first_word}' (should be 'Hello')\")\n",
        "print(f\"Second word: '{second_word}' (should be 'World')\")\n",
        "print(f\"Middle part: '{middle_part}' (should be 'llo Wo')\")\n",
        "print(f\"Last three: '{last_three}' (should be 'rld')\")\n",
        "\n",
        "# Validation\n",
        "assert first_word == \"Hello\", \"Check your first_word slice\"\n",
        "assert second_word == \"World\", \"Check your second_word slice\"\n",
        "assert middle_part == \"llo Wo\", \"Check your middle_part slice\"\n",
        "assert last_three == \"rld\", \"Check your last_three slice\"\n",
        "print(\"✅ All correct!\")"
      ],
      "execution_count": null,
      "outputs": []
    },
    {
      "cell_type": "markdown",
      "metadata": {
        "id": "WOkIt7dyEvPt"
      },
      "source": [
        "## 1.3 Step Parameter Fun\n",
        "\n",
        "Explore the step parameter with these experiments:"
      ]
    },
    {
      "cell_type": "code",
      "metadata": {
        "id": "BLs8grfmEvPu"
      },
      "source": [
        "# Demo: Step parameter\n",
        "alphabet = \"ABCDEFGHIJKLMNOPQRSTUVWXYZ\"\n",
        "print(f\"Full alphabet: {alphabet}\")\n",
        "print()\n",
        "\n",
        "print(\"Step experiments:\")\n",
        "print(f\"Every 2nd letter: {alphabet[::2]}\")\n",
        "print(f\"Every 3rd letter: {alphabet[::3]}\")\n",
        "print(f\"Backwards: {alphabet[::-1]}\")\n",
        "print(f\"Every 2nd, backwards: {alphabet[::-2]}\")"
      ],
      "execution_count": null,
      "outputs": []
    },
    {
      "cell_type": "markdown",
      "metadata": {
        "id": "EIS8Qf_sEvPv"
      },
      "source": [
        "### 🔥 Your Turn: Create Patterns\n",
        "\n",
        "Use slicing with steps to create these patterns:"
      ]
    },
    {
      "cell_type": "code",
      "metadata": {
        "id": "99cUT3FAEvPv"
      },
      "source": [
        "# Practice: Create patterns with step parameter\n",
        "text = \"PROGRAMMING\"\n",
        "\n",
        "# TODO: Get every other letter starting from index 0\n",
        "pattern1 = text[___:___:___]  # Should be \"PORMIG\"\n",
        "\n",
        "# TODO: Get every other letter starting from index 1\n",
        "pattern2 = text[___:___:___]  # Should be \"RGAMN\"\n",
        "\n",
        "# TODO: Reverse the string\n",
        "reversed_text = text[___]  # Should be \"GNIMMARGORP\"\n",
        "\n",
        "# TODO: Get every 3rd letter\n",
        "every_third = text[___:___:___]  # Should be \"PRMN\"\n",
        "\n",
        "# Check your work\n",
        "print(f\"Pattern 1: '{pattern1}' (should be 'PORMIG')\")\n",
        "print(f\"Pattern 2: '{pattern2}' (should be 'RGAMN')\")\n",
        "print(f\"Reversed: '{reversed_text}' (should be 'GNIMMARGORP')\")\n",
        "print(f\"Every third: '{every_third}' (should be 'PRMN')\")"
      ],
      "execution_count": null,
      "outputs": []
    },
    {
      "cell_type": "markdown",
      "metadata": {
        "id": "IpnsjbpxEvPw"
      },
      "source": [
        "## 1.4 Real-World Slicing Challenge\n",
        "\n",
        "Apply slicing to practical problems:"
      ]
    },
    {
      "cell_type": "code",
      "metadata": {
        "id": "i7gUPdyzEvPw"
      },
      "source": [
        "# Challenge: Extract information from formatted strings\n",
        "email = \"student@university.edu\"\n",
        "phone = \"(555) 123-4567\"\n",
        "filename = \"report_2024_final.pdf\"\n",
        "url = \"https://www.example.com/page\"\n",
        "\n",
        "# TODO: Extract parts using slicing and find()\n",
        "# Hint: Use .find() to locate special characters first\n",
        "\n",
        "# Email parts\n",
        "at_pos = email.find(\"@\")\n",
        "username = email[___:___]\n",
        "domain = email[___:___]\n",
        "\n",
        "# Phone parts\n",
        "area_code = phone[___:___]  # Extract \"555\"\n",
        "number_part = phone[___:___]  # Extract \"123-4567\"\n",
        "\n",
        "# Filename parts\n",
        "dot_pos = filename.find(\".\")\n",
        "name_part = filename[___:___]  # Extract \"report_2024_final\"\n",
        "extension = filename[___:___]  # Extract \"pdf\"\n",
        "\n",
        "# URL parts\n",
        "protocol = url[___:___]  # Extract \"https\"\n",
        "domain_start = url.find(\"//\") + 2\n",
        "domain_end = url.find(\"/\", domain_start)\n",
        "url_domain = url[___:___]  # Extract \"www.example.com\"\n",
        "\n",
        "# Display results\n",
        "print(\"Email Analysis:\")\n",
        "print(f\"  Username: {username}\")\n",
        "print(f\"  Domain: {domain}\")\n",
        "print()\n",
        "print(\"Phone Analysis:\")\n",
        "print(f\"  Area code: {area_code}\")\n",
        "print(f\"  Number: {number_part}\")\n",
        "print()\n",
        "print(\"Filename Analysis:\")\n",
        "print(f\"  Name: {name_part}\")\n",
        "print(f\"  Extension: {extension}\")\n",
        "print()\n",
        "print(\"URL Analysis:\")\n",
        "print(f\"  Protocol: {protocol}\")\n",
        "print(f\"  Domain: {url_domain}\")"
      ],
      "execution_count": null,
      "outputs": []
    },
    {
      "cell_type": "raw",
      "metadata": {
        "id": "4nP7wxbzEvPw"
      },
      "source": [
        "---"
      ]
    },
    {
      "cell_type": "markdown",
      "metadata": {
        "id": "2fIq5Bu3EvPx"
      },
      "source": [
        "# Part 2: String Methods Mastery\n",
        "\n",
        "## 2.1 Case Transformation Discovery\n",
        "\n",
        "Experiment with different case methods:"
      ]
    },
    {
      "cell_type": "code",
      "metadata": {
        "id": "FqhLnGMaEvPx"
      },
      "source": [
        "# Demo: Case methods\n",
        "text = \"Python Programming\"\n",
        "print(f\"Original: '{text}'\")\n",
        "print(f\"upper(): '{text.upper()}'\")\n",
        "print(f\"lower(): '{text.lower()}'\")\n",
        "print(f\"title(): '{text.title()}'\")\n",
        "print(f\"swapcase(): '{text.swapcase()}'\")\n",
        "print()\n",
        "\n",
        "# Real use case: Case-insensitive comparison\n",
        "user_input = \"YES\"\n",
        "print(f\"User entered: {user_input}\")\n",
        "print(f\"Checking if user agreed: {user_input.lower() == 'yes'}\")"
      ],
      "execution_count": null,
      "outputs": []
    },
    {
      "cell_type": "markdown",
      "metadata": {
        "id": "MwoaIyPxEvPx"
      },
      "source": [
        "### 🔥 Your Turn: Fix Names\n",
        "\n",
        "Clean up these messy names using appropriate case methods:"
      ]
    },
    {
      "cell_type": "code",
      "metadata": {
        "id": "t6_rEOIbEvPx"
      },
      "source": [
        "# Practice: Name cleaning\n",
        "names = [\n",
        "    \"john doe\",\n",
        "    \"JANE SMITH\",\n",
        "    \"mArY jOhNsOn\",\n",
        "    \"  bob WILSON  \"\n",
        "]\n",
        "\n",
        "# TODO: Clean each name to proper format\n",
        "clean_names = []\n",
        "for name in names:\n",
        "    # Step 1: Remove whitespace\n",
        "    cleaned = name.___()\n",
        "\n",
        "    # Step 2: Apply proper case\n",
        "    proper_case = cleaned.___()\n",
        "\n",
        "    clean_names.append(proper_case)\n",
        "\n",
        "# Display results\n",
        "print(\"Name cleaning results:\")\n",
        "for original, cleaned in zip(names, clean_names):\n",
        "    print(f\"'{original}' → '{cleaned}'\")\n",
        "\n",
        "# Expected: ['John Doe', 'Jane Smith', 'Mary Johnson', 'Bob Wilson']"
      ],
      "execution_count": null,
      "outputs": []
    },
    {
      "cell_type": "markdown",
      "metadata": {
        "id": "FR_qVKoDEvPx"
      },
      "source": [
        "## 2.2 Whitespace Warriors\n",
        "\n",
        "Master whitespace cleaning methods:"
      ]
    },
    {
      "cell_type": "code",
      "metadata": {
        "id": "AXHtS-8MEvPx"
      },
      "source": [
        "# Demo: Whitespace methods\n",
        "messy_inputs = [\n",
        "    \"  hello world  \",\n",
        "    \"\\tPython\\n\",\n",
        "    \"  multiple   spaces   here  \",\n",
        "    \"\\n\\n  messy    data  \\t\\t\"\n",
        "]\n",
        "\n",
        "print(\"Whitespace cleaning demo:\")\n",
        "for text in messy_inputs:\n",
        "    print(f\"Original: {repr(text)}\")\n",
        "    print(f\"strip(): {repr(text.strip())}\")\n",
        "    print(f\"lstrip(): {repr(text.lstrip())}\")\n",
        "    print(f\"rstrip(): {repr(text.rstrip())}\")\n",
        "    print(\"-\" * 40)"
      ],
      "execution_count": null,
      "outputs": []
    },
    {
      "cell_type": "markdown",
      "metadata": {
        "id": "JUzZ1kCDEvPy"
      },
      "source": [
        "### 🔥 Your Turn: Input Sanitizer\n",
        "\n",
        "Create a function that thoroughly cleans user input:"
      ]
    },
    {
      "cell_type": "code",
      "metadata": {
        "id": "V_qRAKjKEvPy"
      },
      "source": [
        "# Practice: Build an input sanitizer\n",
        "def clean_input(messy_text):\n",
        "    \"\"\"Clean messy user input thoroughly\"\"\"\n",
        "    # TODO: Complete this function\n",
        "\n",
        "    # Step 1: Remove leading/trailing whitespace\n",
        "    cleaned = messy_text.___()\n",
        "\n",
        "    # Step 2: Handle multiple internal spaces\n",
        "    while \"  \" in cleaned:\n",
        "        cleaned = cleaned.replace(\"  \", \" \")\n",
        "\n",
        "    # Step 3: Convert to lowercase for consistency\n",
        "    final = cleaned.___()\n",
        "\n",
        "    return final\n",
        "\n",
        "# Test your function\n",
        "test_inputs = [\n",
        "    \"  Hello   World  \",\n",
        "    \"\\tPython    Programming\\n\",\n",
        "    \"  CLEAN    this   UP  \",\n",
        "    \"multiple\\t\\tspaces\"\n",
        "]\n",
        "\n",
        "print(\"Input cleaning results:\")\n",
        "for test in test_inputs:\n",
        "    result = clean_input(test)\n",
        "    print(f\"'{test}' → '{result}'\")"
      ],
      "execution_count": null,
      "outputs": []
    },
    {
      "cell_type": "markdown",
      "metadata": {
        "id": "p7NhEoqSEvPy"
      },
      "source": [
        "## 2.3 Search and Replace Power\n",
        "\n",
        "Explore finding and replacing text:"
      ]
    },
    {
      "cell_type": "code",
      "metadata": {
        "id": "LRNvEptLEvPy"
      },
      "source": [
        "# Demo: Search methods\n",
        "text = \"Python is great! Python is powerful! Python rocks!\"\n",
        "print(f\"Text: {text}\")\n",
        "print()\n",
        "\n",
        "# Search operations\n",
        "print(\"Search operations:\")\n",
        "print(f\"'Python' in text: {'Python' in text}\")\n",
        "print(f\"find('Python'): {text.find('Python')}\")\n",
        "print(f\"find('Java'): {text.find('Java')}\")  # Returns -1 if not found\n",
        "print(f\"count('Python'): {text.count('Python')}\")\n",
        "print(f\"count('is'): {text.count('is')}\")\n",
        "print()\n",
        "\n",
        "# Replace operations\n",
        "print(\"Replace operations:\")\n",
        "print(f\"Replace all 'Python' with 'Java': {text.replace('Python', 'Java')}\")\n",
        "print(f\"Replace first 'Python' only: {text.replace('Python', 'Java', 1)}\")\n",
        "print(f\"Replace 'is' with 'was': {text.replace('is', 'was')}\")"
      ],
      "execution_count": null,
      "outputs": []
    },
    {
      "cell_type": "markdown",
      "metadata": {
        "id": "UAPWzVowEvPz"
      },
      "source": [
        "### 🔥 Your Turn: Text Processor\n",
        "\n",
        "Build a text processing tool:"
      ]
    },
    {
      "cell_type": "code",
      "metadata": {
        "id": "EOm695faEvPz"
      },
      "source": [
        "# Practice: Text processing challenge\n",
        "original_text = \"I love Java programming. Java is powerful and Java is popular.\"\n",
        "\n",
        "# TODO: Complete these transformations\n",
        "\n",
        "# 1. Count how many times \"Java\" appears\n",
        "java_count = original_text.___(\"Java\")\n",
        "\n",
        "# 2. Replace all \"Java\" with \"Python\"\n",
        "python_version = original_text.___(\"Java\", \"Python\")\n",
        "\n",
        "# 3. Replace only the first \"Java\" with \"Python\"\n",
        "first_only = original_text.___(\"Java\", \"Python\", ___)\n",
        "\n",
        "# 4. Find the position of the word \"powerful\"\n",
        "powerful_pos = original_text.___(\"powerful\")\n",
        "\n",
        "# 5. Check if \"programming\" is in the text\n",
        "has_programming = \"programming\" ___ original_text\n",
        "\n",
        "# Display results\n",
        "print(f\"Original: {original_text}\")\n",
        "print(f\"Java count: {java_count}\")\n",
        "print(f\"All replaced: {python_version}\")\n",
        "print(f\"First only: {first_only}\")\n",
        "print(f\"'powerful' at position: {powerful_pos}\")\n",
        "print(f\"Contains 'programming': {has_programming}\")"
      ],
      "execution_count": null,
      "outputs": []
    },
    {
      "cell_type": "markdown",
      "metadata": {
        "id": "SKpykxQPEvPz"
      },
      "source": [
        "## 2.4 Method Chaining Magic\n",
        "\n",
        "Learn to chain methods for powerful transformations:"
      ]
    },
    {
      "cell_type": "code",
      "metadata": {
        "id": "YYJ3C4r8EvP0"
      },
      "source": [
        "# Demo: Method chaining\n",
        "messy_email = \"  USER@GMAIL.COM  \\n\"\n",
        "print(f\"Messy email: {repr(messy_email)}\")\n",
        "\n",
        "# Step by step\n",
        "step1 = messy_email.strip()\n",
        "step2 = step1.lower()\n",
        "print(f\"Step by step: {repr(step1)} → {repr(step2)}\")\n",
        "\n",
        "# Chained\n",
        "clean_email = messy_email.strip().lower()\n",
        "print(f\"Chained: {repr(clean_email)}\")"
      ],
      "execution_count": null,
      "outputs": []
    },
    {
      "cell_type": "markdown",
      "metadata": {
        "id": "Xt-cZsVoEvP0"
      },
      "source": [
        "### 🔥 Your Turn: Chaining Challenge\n",
        "\n",
        "Use method chaining to solve these problems:"
      ]
    },
    {
      "cell_type": "code",
      "metadata": {
        "id": "FVKMkd9kEvP0"
      },
      "source": [
        "# Practice: Method chaining challenges\n",
        "test_data = [\n",
        "    \"  PYTHON PROGRAMMING  \",\n",
        "    \"  john@GMAIL.COM  \\n\",\n",
        "    \"  Hello,World,Python  \",\n",
        "    \"\\tDATA   SCIENCE\\t\"\n",
        "]\n",
        "\n",
        "# TODO: Use method chaining to clean each string\n",
        "\n",
        "# Challenge 1: Clean and title case\n",
        "challenge1 = test_data[0].___().___()  # \"Python Programming\"\n",
        "\n",
        "# Challenge 2: Clean email format\n",
        "challenge2 = test_data[1].___().___()  # \"john@gmail.com\"\n",
        "\n",
        "# Challenge 3: Clean and split on commas\n",
        "challenge3 = test_data[2].___().split(\",\")  # [\"Hello\", \"World\", \"Python\"]\n",
        "\n",
        "# Challenge 4: Clean and replace spaces with underscore\n",
        "challenge4 = test_data[3].___().___().replace(\" \", \"_\")  # \"data_science\"\n",
        "\n",
        "# Display results\n",
        "print(\"Method chaining results:\")\n",
        "print(f\"Challenge 1: '{challenge1}'\")\n",
        "print(f\"Challenge 2: '{challenge2}'\")\n",
        "print(f\"Challenge 3: {challenge3}\")\n",
        "print(f\"Challenge 4: '{challenge4}'\")"
      ],
      "execution_count": null,
      "outputs": []
    },
    {
      "cell_type": "markdown",
      "metadata": {
        "id": "1TLIVHdsEvP0"
      },
      "source": [
        "---\n",
        "\n",
        "# Part 3: Split and Join Operations\n",
        "\n",
        "## 3.1 Splitting Strings Apart\n",
        "\n",
        "Master the split method:"
      ]
    },
    {
      "cell_type": "code",
      "metadata": {
        "id": "fYMxFMjIEvP1"
      },
      "source": [
        "# Demo: Split operations\n",
        "data_examples = [\n",
        "    \"apple,banana,cherry\",\n",
        "    \"John Doe,25,Engineer\",\n",
        "    \"one-two-three-four\",\n",
        "    \"  Python   is    awesome  \"\n",
        "]\n",
        "\n",
        "print(\"Split examples:\")\n",
        "for data in data_examples:\n",
        "    print(f\"Original: '{data}'\")\n",
        "    print(f\"  split(','): {data.split(',')}\")\n",
        "    print(f\"  split('-'): {data.split('-')}\")\n",
        "    print(f\"  split(): {data.split()}\")  # Default: any whitespace\n",
        "    print(f\"  split(' ', 2): {data.split(' ', 2)}\")  # Limit splits\n",
        "    print()"
      ],
      "execution_count": null,
      "outputs": []
    },
    {
      "cell_type": "markdown",
      "metadata": {
        "id": "JGLSnoQvEvP1"
      },
      "source": [
        "### 🔥 Your Turn: Data Parser\n",
        "\n",
        "Parse different data formats:"
      ]
    },
    {
      "cell_type": "code",
      "metadata": {
        "id": "d1xJN6TSEvP1"
      },
      "source": [
        "# Practice: Parse structured data\n",
        "csv_line = \"Alice Smith,23,Engineer,Python\"\n",
        "pipe_data = \"Bob|Jones|25|Designer|JavaScript\"\n",
        "space_data = \"Carol   Brown   22   Scientist   R\"\n",
        "path_data = \"/home/user/documents/file.txt\"\n",
        "\n",
        "# TODO: Parse each data format\n",
        "\n",
        "# Parse CSV\n",
        "csv_parts = csv_line.split(___)\n",
        "name1, age1, job1, skill1 = csv_parts\n",
        "print(f\"CSV: Name={name1}, Age={age1}, Job={job1}, Skill={skill1}\")\n",
        "\n",
        "# Parse pipe-delimited\n",
        "pipe_parts = pipe_data.split(___)\n",
        "name2, surname2, age2, job2, skill2 = pipe_parts\n",
        "print(f\"Pipe: Name={name2} {surname2}, Age={age2}, Job={job2}, Skill={skill2}\")\n",
        "\n",
        "# Parse space-delimited (tricky!)\n",
        "space_parts = space_data.split()  # Handles multiple spaces automatically\n",
        "name3, surname3, age3, job3, skill3 = space_parts\n",
        "print(f\"Space: Name={name3} {surname3}, Age={age3}, Job={job3}, Skill={skill3}\")\n",
        "\n",
        "# Parse file path\n",
        "path_parts = path_data.split(___)\n",
        "folders = path_parts[:-1]  # All but last\n",
        "filename = path_parts[-1]  # Last part\n",
        "print(f\"Path: Folders={folders}, File={filename}\")"
      ],
      "execution_count": null,
      "outputs": []
    },
    {
      "cell_type": "markdown",
      "metadata": {
        "id": "mSpueE3AEvP1"
      },
      "source": [
        "## 3.2 Joining Lists Together\n",
        "\n",
        "Master the join method:"
      ]
    },
    {
      "cell_type": "code",
      "metadata": {
        "id": "s2rikh9dEvP2"
      },
      "source": [
        "# Demo: Join operations\n",
        "words = [\"Python\", \"is\", \"awesome\"]\n",
        "items = [\"apple\", \"banana\", \"cherry\"]\n",
        "numbers = [\"1\", \"2\", \"3\", \"4\", \"5\"]\n",
        "\n",
        "print(\"Join examples:\")\n",
        "print(f\"Words: {words}\")\n",
        "print(f\"  ' '.join(): '{' '.join(words)}'\")\n",
        "print(f\"  '-'.join(): '{'-'.join(words)}'\")\n",
        "print(f\"  ''.join(): '{' '.join(words)}'\")\n",
        "print()\n",
        "\n",
        "print(f\"Items: {items}\")\n",
        "print(f\"  ', '.join(): '{', '.join(items)}'\")\n",
        "print(f\"  ' and '.join(): '{' and '.join(items)}'\")\n",
        "print(f\"  '\\\\n'.join():\")\n",
        "print('\\n'.join(items))\n",
        "print()\n",
        "\n",
        "print(f\"Numbers: {numbers}\")\n",
        "print(f\"  '->'.join(): '{' -> '.join(numbers)}'\")"
      ],
      "execution_count": null,
      "outputs": []
    },
    {
      "cell_type": "markdown",
      "metadata": {
        "id": "V4Icuh69EvP2"
      },
      "source": [
        "### 🔥 Your Turn: List Formatter\n",
        "\n",
        "Create formatted output from lists:"
      ]
    },
    {
      "cell_type": "code",
      "metadata": {
        "id": "rITcZobEEvP2"
      },
      "source": [
        "# Practice: Format lists in different ways\n",
        "names = [\"Alice\", \"Bob\", \"Carol\", \"David\"]\n",
        "scores = [\"95\", \"87\", \"92\", \"89\"]\n",
        "tags = [\"python\", \"programming\", \"coding\", \"development\"]\n",
        "\n",
        "# TODO: Create different formatted outputs\n",
        "\n",
        "# 1. Create a sentence listing names\n",
        "name_sentence = \"Students: \" + ___.join(names)\n",
        "\n",
        "# 2. Create a comma-separated score list\n",
        "score_list = ___.join(scores)\n",
        "\n",
        "# 3. Create hashtag format\n",
        "hashtags = \"#\" + ___.join(tags)\n",
        "\n",
        "# 4. Create a numbered list\n",
        "numbered_names = []\n",
        "for i, name in enumerate(names, 1):\n",
        "    numbered_names.append(f\"{i}. {name}\")\n",
        "numbered_list = ___.join(numbered_names)\n",
        "\n",
        "# 5. Create \"A, B, and C\" format (Oxford comma style)\n",
        "if len(names) > 2:\n",
        "    oxford_list = \", \".join(names[:-1]) + \", and \" + names[-1]\n",
        "else:\n",
        "    oxford_list = \" and \".join(names)\n",
        "\n",
        "# Display results\n",
        "print(f\"Name sentence: {name_sentence}\")\n",
        "print(f\"Score list: {score_list}\")\n",
        "print(f\"Hashtags: {hashtags}\")\n",
        "print(f\"Numbered list:\\n{numbered_list}\")\n",
        "print(f\"Oxford comma: {oxford_list}\")"
      ],
      "execution_count": null,
      "outputs": []
    },
    {
      "cell_type": "markdown",
      "metadata": {
        "id": "T9q3JtAeEvP3"
      },
      "source": [
        "## 3.3 Split-Process-Join Pattern\n",
        "\n",
        "Master the common pattern of splitting, processing, then joining:"
      ]
    },
    {
      "cell_type": "code",
      "metadata": {
        "id": "ZNBbz0FQEvP3"
      },
      "source": [
        "# Demo: Split-Process-Join pattern\n",
        "messy_data = \"  john@GMAIL.com  ;  alice@YAHOO.com;bob@hotmail.COM  \"\n",
        "print(f\"Messy data: '{messy_data}'\")\n",
        "\n",
        "# Step 1: Split\n",
        "email_list = messy_data.split(\";\")\n",
        "print(f\"After split: {email_list}\")\n",
        "\n",
        "# Step 2: Process each item\n",
        "clean_emails = []\n",
        "for email in email_list:\n",
        "    cleaned = email.strip().lower()\n",
        "    clean_emails.append(cleaned)\n",
        "print(f\"After cleaning: {clean_emails}\")\n",
        "\n",
        "# Step 3: Join back\n",
        "result = \", \".join(clean_emails)\n",
        "print(f\"Final result: '{result}'\")"
      ],
      "execution_count": null,
      "outputs": []
    },
    {
      "cell_type": "markdown",
      "metadata": {
        "id": "7bCAJEloEvP3"
      },
      "source": [
        "### 🔥 Your Turn: Data Cleaner Pipeline\n",
        "\n",
        "Build a complete data processing pipeline:"
      ]
    },
    {
      "cell_type": "code",
      "metadata": {
        "id": "LlqYk4nJEvP4"
      },
      "source": [
        "# Practice: Complete data processing pipeline\n",
        "raw_data = \"  APPLE|banana |  CHERRY|  date  | elderberry  \"\n",
        "print(f\"Raw data: '{raw_data}'\")\n",
        "\n",
        "# TODO: Build a processing pipeline\n",
        "\n",
        "# Step 1: Split on delimiter\n",
        "items = raw_data.split(___)\n",
        "print(f\"Step 1 - Split: {items}\")\n",
        "\n",
        "# Step 2: Clean each item (strip and title case)\n",
        "cleaned_items = []\n",
        "for item in items:\n",
        "    cleaned = item.___()._____()\n",
        "    cleaned_items.append(cleaned)\n",
        "print(f\"Step 2 - Cleaned: {cleaned_items}\")\n",
        "\n",
        "# Step 3: Filter out any empty items\n",
        "filtered_items = []\n",
        "for item in cleaned_items:\n",
        "    if item:  # Not empty\n",
        "        filtered_items.append(item)\n",
        "print(f\"Step 3 - Filtered: {filtered_items}\")\n",
        "\n",
        "# Step 4: Join with nice formatting\n",
        "final_result = ___.join(filtered_items)\n",
        "print(f\"Step 4 - Final: '{final_result}'\")\n",
        "\n",
        "# Bonus: Do it all in one line with method chaining\n",
        "one_liner = \", \".join([item.strip().title() for item in raw_data.split(\"|\") if item.strip()])\n",
        "print(f\"One liner result: '{one_liner}'\")"
      ],
      "execution_count": null,
      "outputs": []
    },
    {
      "cell_type": "raw",
      "metadata": {
        "id": "b16x9CNGEvP4"
      },
      "source": [
        "---"
      ]
    },
    {
      "cell_type": "markdown",
      "metadata": {
        "id": "crDtNe6cEvP4"
      },
      "source": [
        "# Part 4: Character Testing and Validation\n",
        "\n",
        "## 4.1 Character Type Testing\n",
        "\n",
        "Explore character testing methods:"
      ]
    },
    {
      "cell_type": "code",
      "metadata": {
        "id": "zQYq93YqEvP5"
      },
      "source": [
        "# Demo: Character testing methods\n",
        "test_strings = [\n",
        "    \"123\",\n",
        "    \"abc\",\n",
        "    \"ABC\",\n",
        "    \"Hello123\",\n",
        "    \"python_var\",\n",
        "    \"   \",\n",
        "    \"\"\n",
        "]\n",
        "\n",
        "print(\"Character testing demo:\")\n",
        "for s in test_strings:\n",
        "    print(f\"'{s}':\")\n",
        "    print(f\"  isdigit(): {s.isdigit()}\")\n",
        "    print(f\"  isalpha(): {s.isalpha()}\")\n",
        "    print(f\"  isalnum(): {s.isalnum()}\")\n",
        "    print(f\"  isupper(): {s.isupper()}\")\n",
        "    print(f\"  islower(): {s.islower()}\")\n",
        "    print(f\"  isspace(): {s.isspace()}\")\n",
        "    print()"
      ],
      "execution_count": null,
      "outputs": []
    },
    {
      "cell_type": "markdown",
      "metadata": {
        "id": "-yxdsPh8EvP5"
      },
      "source": [
        "### 🔥 Your Turn: Input Validator\n",
        "\n",
        "Build a comprehensive input validator:"
      ]
    },
    {
      "cell_type": "code",
      "metadata": {
        "id": "e7lKRPGSEvP5"
      },
      "source": [
        "# Practice: Build input validators\n",
        "def validate_username(username):\n",
        "    \"\"\"Validate username: 3-20 chars, letters/numbers/underscore, starts with letter\"\"\"\n",
        "    # TODO: Complete validation logic\n",
        "\n",
        "    # Check length\n",
        "    if len(username) < 3 or len(username) > 20:\n",
        "        return False, \"Must be 3-20 characters\"\n",
        "\n",
        "    # Check first character\n",
        "    if not username[0].___():\n",
        "        return False, \"Must start with a letter\"\n",
        "\n",
        "    # Check all characters\n",
        "    for char in username:\n",
        "        if not (char.___() or char.___() or char == \"_\"):\n",
        "            return False, \"Only letters, numbers, and underscore allowed\"\n",
        "\n",
        "    return True, \"Valid username\"\n",
        "\n",
        "def validate_password(password):\n",
        "    \"\"\"Validate password: 8+ chars, has upper, lower, and digit\"\"\"\n",
        "    # TODO: Complete validation logic\n",
        "\n",
        "    if len(password) < 8:\n",
        "        return False, \"Must be at least 8 characters\"\n",
        "\n",
        "    has_upper = any(c.___() for c in password)\n",
        "    has_lower = any(c.___() for c in password)\n",
        "    has_digit = any(c.___() for c in password)\n",
        "\n",
        "    if not has_upper:\n",
        "        return False, \"Must contain uppercase letter\"\n",
        "    if not has_lower:\n",
        "        return False, \"Must contain lowercase letter\"\n",
        "    if not has_digit:\n",
        "        return False, \"Must contain digit\"\n",
        "\n",
        "    return True, \"Strong password\"\n",
        "\n",
        "# Test your validators\n",
        "test_usernames = [\"john_doe\", \"user123\", \"x\", \"TOOLONGUSERNAME123456789\", \"123user\", \"user@bad\"]\n",
        "test_passwords = [\"password\", \"Password\", \"Password1\", \"pass\", \"PASSWORD123\"]\n",
        "\n",
        "print(\"Username validation:\")\n",
        "for username in test_usernames:\n",
        "    valid, message = validate_username(username)\n",
        "    print(f\"'{username}': {valid} - {message}\")\n",
        "\n",
        "print(\"\\nPassword validation:\")\n",
        "for password in test_passwords:\n",
        "    valid, message = validate_password(password)\n",
        "    print(f\"'{password}': {valid} - {message}\")"
      ],
      "execution_count": null,
      "outputs": []
    },
    {
      "cell_type": "markdown",
      "metadata": {
        "id": "1UUShXPxEvP6"
      },
      "source": [
        "---\n",
        "\n",
        "# Part 5: Mini Word Game Project\n",
        "\n",
        "## 5.1 Game Planning\n",
        "\n",
        "Let's build a simple word guessing game step by step:"
      ]
    },
    {
      "cell_type": "code",
      "metadata": {
        "id": "D_8rFg2HEvP6"
      },
      "source": [
        "# Demo: Game components\n",
        "print(\"=== Word Game Components ===\")\n",
        "print()\n",
        "\n",
        "# Component 1: Word list\n",
        "words = [\"python\", \"programming\", \"computer\", \"science\", \"coding\"]\n",
        "print(f\"Word list: {words}\")\n",
        "\n",
        "# Component 2: Pick a word\n",
        "import random\n",
        "# For simplicity, we'll use index 0 for now\n",
        "current_word = words[0]\n",
        "print(f\"Current word: {current_word}\")\n",
        "\n",
        "# Component 3: Hide the word\n",
        "hidden = \"_\" * len(current_word)\n",
        "print(f\"Hidden word: {hidden}\")\n",
        "\n",
        "# Component 4: Reveal letters\n",
        "guess = \"p\"\n",
        "if guess in current_word:\n",
        "    print(f\"Good guess! '{guess}' is in the word\")\n",
        "else:\n",
        "    print(f\"Sorry, '{guess}' is not in the word\")"
      ],
      "execution_count": null,
      "outputs": []
    },
    {
      "cell_type": "markdown",
      "metadata": {
        "id": "qHSYimHhEvP7"
      },
      "source": [
        "## 5.2 Core Game Logic\n",
        "\n",
        "Build the main game mechanics:"
      ]
    },
    {
      "cell_type": "code",
      "metadata": {
        "id": "fpqZ9ovWEvP7"
      },
      "source": [
        "# Practice: Build core game functions\n",
        "def hide_word(word, guessed_letters):\n",
        "    \"\"\"Create display string with guessed letters revealed\"\"\"\n",
        "    display = \"\"\n",
        "    for letter in word:\n",
        "        if letter in guessed_letters:\n",
        "            display += letter + \" \"\n",
        "        else:\n",
        "            display += \"_ \"\n",
        "    return display.strip()\n",
        "\n",
        "def check_guess(word, guess):\n",
        "    \"\"\"Check if guess is in word and return positions\"\"\"\n",
        "    positions = []\n",
        "    for i, letter in enumerate(word):\n",
        "        if letter == guess:\n",
        "            positions.append(i)\n",
        "    return positions\n",
        "\n",
        "def is_word_complete(word, guessed_letters):\n",
        "    \"\"\"Check if all letters have been guessed\"\"\"\n",
        "    for letter in word:\n",
        "        if letter not in guessed_letters:\n",
        "            return False\n",
        "    return True\n",
        "\n",
        "# TODO: Test the functions\n",
        "test_word = \"python\"\n",
        "test_guesses = [\"p\", \"y\", \"x\"]\n",
        "\n",
        "print(f\"Testing with word: '{test_word}'\")\n",
        "print(f\"Guessed letters: {test_guesses}\")\n",
        "print()\n",
        "\n",
        "# Test hide_word function\n",
        "display = hide_word(test_word, test_guesses)\n",
        "print(f\"Display: {display}\")\n",
        "\n",
        "# Test check_guess function\n",
        "for guess in [\"t\", \"z\"]:\n",
        "    positions = check_guess(test_word, guess)\n",
        "    if positions:\n",
        "        print(f\"'{guess}' found at positions: {positions}\")\n",
        "    else:\n",
        "        print(f\"'{guess}' not in word\")\n",
        "\n",
        "# Test completion check\n",
        "print(f\"Word complete? {is_word_complete(test_word, test_guesses)}\")\n",
        "all_letters = list(test_word)\n",
        "print(f\"With all letters {all_letters}: {is_word_complete(test_word, all_letters)}\")"
      ],
      "execution_count": null,
      "outputs": []
    },
    {
      "cell_type": "markdown",
      "metadata": {
        "id": "m_SaiN_REvP7"
      },
      "source": [
        "## 5.3 Simple Game Implementation\n",
        "\n",
        "Put it all together in a basic game:"
      ]
    },
    {
      "cell_type": "code",
      "metadata": {
        "id": "7c9M7X-FEvP8"
      },
      "source": [
        "# Practice: Simple word guessing game\n",
        "def play_word_game():\n",
        "    \"\"\"Simple word guessing game\"\"\"\n",
        "    words = [\"python\", \"coding\", \"computer\", \"science\"]\n",
        "    word = words[0]  # Use first word for simplicity\n",
        "    guessed_letters = []\n",
        "    max_attempts = 6\n",
        "    wrong_guesses = 0\n",
        "\n",
        "    print(\"=== Word Guessing Game ===\")\n",
        "    print(f\"Guess the {len(word)}-letter word!\")\n",
        "    print(f\"You have {max_attempts} wrong guesses allowed.\")\n",
        "    print()\n",
        "\n",
        "    while wrong_guesses < max_attempts:\n",
        "        # Show current state\n",
        "        display = hide_word(word, guessed_letters)\n",
        "        print(f\"Word: {display}\")\n",
        "        print(f\"Guessed: {', '.join(guessed_letters) if guessed_letters else 'none'}\")\n",
        "        print(f\"Wrong guesses remaining: {max_attempts - wrong_guesses}\")\n",
        "        print()\n",
        "\n",
        "        # Check if won\n",
        "        if is_word_complete(word, guessed_letters):\n",
        "            print(\"🎉 Congratulations! You guessed the word!\")\n",
        "            return True\n",
        "\n",
        "        # Get guess\n",
        "        guess = input(\"Guess a letter: \").strip().lower()\n",
        "\n",
        "        # Validate guess\n",
        "        if len(guess) != 1 or not guess.isalpha():\n",
        "            print(\"Please enter a single letter.\")\n",
        "            continue\n",
        "\n",
        "        if guess in guessed_letters:\n",
        "            print(\"You already guessed that letter.\")\n",
        "            continue\n",
        "\n",
        "        # Process guess\n",
        "        guessed_letters.append(guess)\n",
        "\n",
        "        if guess in word:\n",
        "            positions = check_guess(word, guess)\n",
        "            print(f\"Good guess! '{guess}' appears {len(positions)} time(s).\")\n",
        "        else:\n",
        "            wrong_guesses += 1\n",
        "            print(f\"Sorry, '{guess}' is not in the word.\")\n",
        "\n",
        "        print(\"-\" * 30)\n",
        "\n",
        "    # Game over\n",
        "    print(f\"Game over! The word was: '{word}'\")\n",
        "    return False\n",
        "\n",
        "# TODO: Uncomment to play the game\n",
        "# play_word_game()\n",
        "print(\"Game function ready! Uncomment the line above to play.\")"
      ],
      "execution_count": null,
      "outputs": []
    },
    {
      "cell_type": "markdown",
      "metadata": {
        "id": "Fzl2UhF_EvP9"
      },
      "source": [
        "## 5.4 Game Enhancements\n",
        "\n",
        "Add features to make the game more interesting:"
      ]
    },
    {
      "cell_type": "code",
      "metadata": {
        "id": "Vvb9wjDREvP9"
      },
      "source": [
        "# Practice: Enhanced game with categories and hints\n",
        "def enhanced_word_game():\n",
        "    \"\"\"Enhanced word game with categories and hints\"\"\"\n",
        "\n",
        "    # Word categories\n",
        "    word_categories = {\n",
        "        \"animals\": [\"elephant\", \"giraffe\", \"penguin\", \"dolphin\"],\n",
        "        \"programming\": [\"python\", \"variable\", \"function\", \"loop\"],\n",
        "        \"science\": [\"physics\", \"chemistry\", \"biology\", \"astronomy\"]\n",
        "    }\n",
        "\n",
        "    # Choose category\n",
        "    print(\"=== Enhanced Word Game ===\")\n",
        "    print(\"Categories:\", \", \".join(word_categories.keys()))\n",
        "\n",
        "    # For demo, we'll use programming category\n",
        "    category = \"programming\"\n",
        "    words = word_categories[category]\n",
        "    word = words[0]  # Use first word\n",
        "\n",
        "    print(f\"Category: {category.title()}\")\n",
        "    print(f\"Hint: This is a programming term\")\n",
        "    print()\n",
        "\n",
        "    # Game variables\n",
        "    guessed_letters = []\n",
        "    max_attempts = 6\n",
        "    wrong_guesses = 0\n",
        "    hints_used = 0\n",
        "    max_hints = 2\n",
        "\n",
        "    # Hint system\n",
        "    def get_hint(word, guessed_letters, hint_num):\n",
        "        if hint_num == 1:\n",
        "            return f\"The word starts with '{word[0]}'\"\n",
        "        elif hint_num == 2:\n",
        "            vowels = [c for c in word if c in \"aeiou\"]\n",
        "            return f\"The word contains these vowels: {', '.join(set(vowels))}\"\n",
        "        return \"No more hints available\"\n",
        "\n",
        "    while wrong_guesses < max_attempts:\n",
        "        # Show current state\n",
        "        display = hide_word(word, guessed_letters)\n",
        "        print(f\"Word: {display}\")\n",
        "        print(f\"Category: {category}\")\n",
        "        print(f\"Guessed: {', '.join(guessed_letters) if guessed_letters else 'none'}\")\n",
        "        print(f\"Wrong guesses remaining: {max_attempts - wrong_guesses}\")\n",
        "\n",
        "        if hints_used < max_hints:\n",
        "            print(f\"Hints available: {max_hints - hints_used}\")\n",
        "        print()\n",
        "\n",
        "        # Check if won\n",
        "        if is_word_complete(word, guessed_letters):\n",
        "            score = (max_attempts - wrong_guesses) * 10 - hints_used * 5\n",
        "            print(f\"🎉 Congratulations! You guessed '{word}'!\")\n",
        "            print(f\"Score: {score} points\")\n",
        "            return True\n",
        "\n",
        "        # Get input\n",
        "        action = input(\"Enter letter or 'hint' for hint: \").strip().lower()\n",
        "\n",
        "        # Handle hint request\n",
        "        if action == \"hint\" and hints_used < max_hints:\n",
        "            hints_used += 1\n",
        "            hint = get_hint(word, guessed_letters, hints_used)\n",
        "            print(f\"Hint {hints_used}: {hint}\")\n",
        "            continue\n",
        "        elif action == \"hint\":\n",
        "            print(\"No more hints available!\")\n",
        "            continue\n",
        "\n",
        "        # Validate letter guess\n",
        "        if len(action) != 1 or not action.isalpha():\n",
        "            print(\"Please enter a single letter or 'hint'.\")\n",
        "            continue\n",
        "\n",
        "        if action in guessed_letters:\n",
        "            print(\"You already guessed that letter.\")\n",
        "            continue\n",
        "\n",
        "        # Process guess\n",
        "        guessed_letters.append(action)\n",
        "\n",
        "        if action in word:\n",
        "            positions = check_guess(word, action)\n",
        "            print(f\"Good guess! '{action}' appears {len(positions)} time(s).\")\n",
        "        else:\n",
        "            wrong_guesses += 1\n",
        "            print(f\"Sorry, '{action}' is not in the word.\")\n",
        "\n",
        "        print(\"-\" * 40)\n",
        "\n",
        "    # Game over\n",
        "    print(f\"Game over! The word was: '{word}'\")\n",
        "    return False\n",
        "\n",
        "# TODO: Uncomment to play the enhanced game\n",
        "# enhanced_word_game()\n",
        "print(\"Enhanced game ready! Uncomment the line above to play.\")"
      ],
      "execution_count": null,
      "outputs": []
    },
    {
      "cell_type": "raw",
      "metadata": {
        "id": "OyTaTL01EvP-"
      },
      "source": [
        "---"
      ]
    },
    {
      "cell_type": "markdown",
      "metadata": {
        "id": "yTyWfgzKEvP_"
      },
      "source": [
        "# Part 6: Integration Challenge\n",
        "\n",
        "## 6.1 Text Statistics Analyzer\n",
        "\n",
        "Apply all your string skills to analyze text:"
      ]
    },
    {
      "cell_type": "code",
      "metadata": {
        "id": "JG149rliEvP_"
      },
      "source": [
        "# Practice: Complete text analysis tool\n",
        "def analyze_text(text):\n",
        "    \"\"\"Comprehensive text analysis using string operations\"\"\"\n",
        "\n",
        "    # TODO: Complete the analysis functions\n",
        "\n",
        "    # Basic statistics\n",
        "    char_count = len(text)\n",
        "    word_list = text.split()\n",
        "    word_count = len(word_list)\n",
        "\n",
        "    # Sentence count (rough - count periods)\n",
        "    sentence_count = text.count(\".\")\n",
        "\n",
        "    # Average word length\n",
        "    total_word_length = sum(len(word) for word in word_list)\n",
        "    avg_word_length = total_word_length / word_count if word_count > 0 else 0\n",
        "\n",
        "    # Find longest word\n",
        "    longest_word = \"\"\n",
        "    for word in word_list:\n",
        "        # Remove punctuation for fair comparison\n",
        "        clean_word = \"\"\n",
        "        for char in word:\n",
        "            if char.isalpha():\n",
        "                clean_word += char\n",
        "\n",
        "        if len(clean_word) > len(longest_word):\n",
        "            longest_word = clean_word\n",
        "\n",
        "    # Character frequency (letters only)\n",
        "    letter_counts = {}\n",
        "    for char in text.lower():\n",
        "        if char.isalpha():\n",
        "            if char in letter_counts:\n",
        "                letter_counts[char] += 1\n",
        "            else:\n",
        "                letter_counts[char] = 1\n",
        "\n",
        "    # Most common letter\n",
        "    most_common_letter = \"\"\n",
        "    max_count = 0\n",
        "    for letter, count in letter_counts.items():\n",
        "        if count > max_count:\n",
        "            max_count = count\n",
        "            most_common_letter = letter\n",
        "\n",
        "    # Display results\n",
        "    print(\"=== Text Analysis Results ===\")\n",
        "    print(f\"Characters: {char_count}\")\n",
        "    print(f\"Words: {word_count}\")\n",
        "    print(f\"Sentences: {sentence_count}\")\n",
        "    print(f\"Average word length: {avg_word_length:.1f}\")\n",
        "    print(f\"Longest word: '{longest_word}' ({len(longest_word)} letters)\")\n",
        "    print(f\"Most common letter: '{most_common_letter}' ({max_count} times)\")\n",
        "\n",
        "    return {\n",
        "        'chars': char_count,\n",
        "        'words': word_count,\n",
        "        'sentences': sentence_count,\n",
        "        'avg_word_length': avg_word_length,\n",
        "        'longest_word': longest_word,\n",
        "        'most_common_letter': most_common_letter\n",
        "    }\n",
        "\n",
        "# Test the analyzer\n",
        "sample_text = \"\"\"\n",
        "Python is a powerful programming language.\n",
        "It is easy to learn and has excellent libraries.\n",
        "Many developers choose Python for data science and web development.\n",
        "\"\"\"\n",
        "\n",
        "results = analyze_text(sample_text.strip())"
      ],
      "execution_count": null,
      "outputs": []
    },
    {
      "cell_type": "markdown",
      "metadata": {
        "id": "iFeDZUW-EvP_"
      },
      "source": [
        "## 6.2 Final Challenge: Personal Text Tool\n",
        "\n",
        "Create a tool that solves a real problem you face:"
      ]
    },
    {
      "cell_type": "code",
      "metadata": {
        "id": "t8es2_R5EvQA"
      },
      "source": [
        "# Final Challenge: Build your own text processing tool\n",
        "# Choose ONE of these challenges or create your own:\n",
        "\n",
        "# Option 1: Email List Cleaner\n",
        "def clean_email_list(messy_emails):\n",
        "    \"\"\"Clean and format a messy email list\"\"\"\n",
        "    # TODO: Split, clean, validate, and reformat emails\n",
        "    pass\n",
        "\n",
        "# Option 2: Name Formatter\n",
        "def format_names(name_list):\n",
        "    \"\"\"Standardize a list of names to proper format\"\"\"\n",
        "    # TODO: Handle various name formats and clean them\n",
        "    pass\n",
        "\n",
        "# Option 3: Phone Number Formatter\n",
        "def format_phone_numbers(phone_list):\n",
        "    \"\"\"Convert phone numbers to standard format\"\"\"\n",
        "    # TODO: Extract digits and format consistently\n",
        "    pass\n",
        "\n",
        "# Option 4: Text Message Cleaner\n",
        "def clean_text_messages(messages):\n",
        "    \"\"\"Clean and standardize text messages\"\"\"\n",
        "    # TODO: Handle abbreviations, fix capitalization, etc.\n",
        "    pass\n",
        "\n",
        "# TODO: Choose one function above and implement it\n",
        "# Test with real-world examples\n",
        "# Demonstrate that it works with various edge cases\n",
        "\n",
        "print(\"Choose one challenge above and implement it!\")\n",
        "print(\"Consider what text processing problems you encounter in real life.\")"
      ],
      "execution_count": null,
      "outputs": []
    },
    {
      "cell_type": "markdown",
      "metadata": {
        "id": "0HwVwHgcEvQA"
      },
      "source": [
        "---\n",
        "\n",
        "# Lab Completion\n",
        "\n",
        "## Reflection Questions\n",
        "\n",
        "Answer these questions about your learning experience:"
      ]
    },
    {
      "cell_type": "code",
      "metadata": {
        "id": "xiOVZPrcEvQB"
      },
      "source": [
        "# Reflection: Copy and complete these in a text cell\n",
        "\"\"\"\n",
        "1. Which string operation did you find most challenging and why?\n",
        "\n",
        "2. Describe a real-world situation where you could use string slicing.\n",
        "\n",
        "3. How would you explain method chaining to another student?\n",
        "\n",
        "4. What's the most useful string method you learned today?\n",
        "\n",
        "5. How confident do you feel about processing text data now (1-10)?\n",
        "\n",
        "6. What would you like to add to your word game if you had more time?\n",
        "\"\"\""
      ],
      "execution_count": null,
      "outputs": []
    },
    {
      "cell_type": "markdown",
      "metadata": {
        "id": "D5yK7sktEvQB"
      },
      "source": [
        "## Next Steps\n",
        "\n",
        "**You've mastered:**\n",
        "- String slicing with confidence\n",
        "- Essential string methods\n",
        "- Split and join operations  \n",
        "- Input validation techniques\n",
        "- Building interactive text programs\n",
        "\n",
        "**Continue practicing by:**\n",
        "- Creating more word games\n",
        "- Processing real data files\n",
        "- Building text-based tools\n",
        "- Exploring advanced string patterns\n",
        "\n",
        "**Coming up:**\n",
        "- Functions to organize your code\n",
        "- File processing for real data\n",
        "- Data structures for complex problems\n",
        "\n",
        "Great work completing the interactive string operations lab! 🎉"
      ]
    }
  ],
  "metadata": {
    "kernelspec": {
      "display_name": "Python 3",
      "language": "python",
      "name": "python3"
    },
    "colab": {
      "provenance": [],
      "include_colab_link": true
    }
  },
  "nbformat": 4,
  "nbformat_minor": 0
}